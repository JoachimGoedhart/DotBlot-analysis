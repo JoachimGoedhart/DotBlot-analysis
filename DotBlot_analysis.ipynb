{
  "cells": [
    {
      "cell_type": "markdown",
      "metadata": {
        "id": "view-in-github",
        "colab_type": "text"
      },
      "source": [
        "<a href=\"https://colab.research.google.com/github/JoachimGoedhart/DotBlot-analysis/blob/main/DotBlot_analysis.ipynb\" target=\"_parent\"><img src=\"https://colab.research.google.com/assets/colab-badge.svg\" alt=\"Open In Colab\"/></a>"
      ]
    },
    {
      "cell_type": "markdown",
      "id": "5f874357",
      "metadata": {
        "id": "5f874357"
      },
      "source": [
        "# Dotblot Analysis"
      ]
    },
    {
      "cell_type": "markdown",
      "source": [
        "## Introduction"
      ],
      "metadata": {
        "id": "OtIcdQB1vtYj"
      },
      "id": "OtIcdQB1vtYj"
    },
    {
      "cell_type": "markdown",
      "source": [],
      "metadata": {
        "id": "z5Al4OICvlk9"
      },
      "id": "z5Al4OICvlk9"
    },
    {
      "cell_type": "markdown",
      "source": [
        "Levels of chemokines are measured through an array that produces a dotblot as result (https://www.rndsystems.com/products/proteome-profiler-human-cytokine-array-kit_ary005b). Every dot is linked to different antibodies, and quantification is necessary to get informative data out of it. Previously, dot blot quantification has typically been done manually. Thus, the goal is to automate this process by creating a pipeline of code in ‘Python’.\n",
        "\n",
        "Therefore, the aim of this Jupyter Notebook is to automatize the process of registering each single dotblot to the mask, to get the grey value from each dot, and finally to arrange the values in a [tidy table](https://thenode.biologists.com/converting-excellent-spreadsheets-tidy-data/education/) to allow for a faster and easier analysis.\n",
        "\n",
        "### How to use this Notebook\n",
        "\n",
        "Before you run the Notebook, make sure that you are logged into your Google account and have the data to process in your Google Drive.\n",
        "\n",
        "### Before Starting\n",
        "\n",
        "For the code to work, Images must be 700x300 and in .tif format. This is best done in ImageJ before starting the analysis.\n",
        "\n",
        "### Test Round Option\n",
        "\n",
        "Before using your personal data, you can test this Notebook by running it, using example data that we provide on GitHub. In case any of these steps fail, please file an issue on GitHub.\n"
      ],
      "metadata": {
        "id": "FqSJ6hLj3gAH"
      },
      "id": "FqSJ6hLj3gAH"
    },
    {
      "cell_type": "markdown",
      "source": [
        "### Step 1: Initialization \n",
        "\n",
        "Executing this section, by pressing the \"play\" button, will load all the required packages and data necessary for the proper functioning of this Notebook."
      ],
      "metadata": {
        "id": "cCUhO9FMGJ6f"
      },
      "id": "cCUhO9FMGJ6f"
    },
    {
      "cell_type": "code",
      "execution_count": 1,
      "id": "0ced118b",
      "metadata": {
        "id": "0ced118b",
        "colab": {
          "base_uri": "https://localhost:8080/"
        },
        "outputId": "8f66b008-6a3b-4984-d872-f2112b55daab",
        "cellView": "form"
      },
      "outputs": [
        {
          "output_type": "stream",
          "name": "stdout",
          "text": [
            "Looking in indexes: https://pypi.org/simple, https://us-python.pkg.dev/colab-wheels/public/simple/\n",
            "Requirement already satisfied: pystackreg in /usr/local/lib/python3.9/dist-packages (0.2.7)\n",
            "Requirement already satisfied: numpy in /usr/local/lib/python3.9/dist-packages (from pystackreg) (1.22.4)\n",
            "Requirement already satisfied: tqdm in /usr/local/lib/python3.9/dist-packages (from pystackreg) (4.65.0)\n"
          ]
        }
      ],
      "source": [
        "#@title Initialization\n",
        "import os\n",
        "import matplotlib.pyplot as plt\n",
        "import numpy as np\n",
        "import pandas as pd\n",
        "\n",
        "#For ROI identification and Gray value quantification\n",
        "from skimage import io\n",
        "from skimage.measure import label, regionprops\n",
        "from skimage.segmentation import clear_border\n",
        "from skimage.filters import threshold_otsu\n",
        "from skimage import filters as filt\n",
        "\n",
        "#Install pystackreg and load\n",
        "!pip install pystackreg\n",
        "from pystackreg import StackReg\n",
        "from skimage import util\n",
        "\n",
        "#Loading external data\n",
        "#Load mask\n",
        "mask = io.imread(\"https://github.com/JoachimGoedhart/DotBlot-analysis/raw/main/Mask_v3-700x300.tif\")\n",
        "#Load Conditions files\n",
        "url = 'https://raw.githubusercontent.com/JoachimGoedhart/DotBlot-analysis/main/Table_chemokine-array.csv'\n",
        "conditions = pd.read_csv(url)\n",
        "conditions.index += 1\n",
        "\n",
        "#Define Directories\n",
        "in_dir = \"\" \n",
        "out_dir = \"\""
      ]
    },
    {
      "cell_type": "markdown",
      "source": [
        "### Step 2: Mount Drive\n",
        "\n",
        "To make this Notebook work, you need to mount the personal Drive to the GoogleCoLab. To do that, “Run” the code below and accept to access your Drive. Once this is done,if you click on the folder icon (on the left), your Drive folder should appear with all your personal organized Drive that you are able to access freely.\n",
        "\n",
        "### Test Round Option\n",
        "\n",
        "If you only want to test this Notebook, skip step 2 and 3, and proceed to the \"Registration\" section."
      ],
      "metadata": {
        "id": "HsnH86i732pU"
      },
      "id": "HsnH86i732pU"
    },
    {
      "cell_type": "code",
      "source": [
        "from google.colab import drive\n",
        "drive.mount('/content/drive')"
      ],
      "metadata": {
        "colab": {
          "base_uri": "https://localhost:8080/"
        },
        "id": "bb_2BST_RkXD",
        "outputId": "98682601-58e0-4715-e869-e084a74335d0"
      },
      "id": "bb_2BST_RkXD",
      "execution_count": null,
      "outputs": [
        {
          "output_type": "stream",
          "name": "stdout",
          "text": [
            "Drive already mounted at /content/drive; to attempt to forcibly remount, call drive.mount(\"/content/drive\", force_remount=True).\n"
          ]
        }
      ]
    },
    {
      "cell_type": "markdown",
      "source": [
        "### Step 3: Directories\n",
        "\n",
        "Once you are connected to your personal Drive you can access the data. To make the workspace clear and neat the data is divided in folders (“directories”):\n",
        "\n",
        "- In_dir = folder with the TIF files (700x300) of the dotblot that must be analysed\n",
        "- Out_dir = folder where all the output files are going to end up (registered images in grayscale, and long format tables with grey values)\n",
        "\n",
        "To give the right directions, go on the three dots next to the folder of interest and click on “Copy path”, then past this in the right correspondent directory."
      ],
      "metadata": {
        "id": "b-JfrO7A39zZ"
      },
      "id": "b-JfrO7A39zZ"
    },
    {
      "cell_type": "code",
      "source": [
        "#@title Define the input and output Directories\n",
        "\n",
        "in_dir = \"\" #@param {type:\"string\"}\n",
        "out_dir = \"\" #@param {type:\"string\"}\n",
        "\n",
        "if in_dir != \"\":\n",
        "  filelist = os.listdir(in_dir)\n",
        "  print(\"These files are detected in the directory:\")\n",
        "  print(filelist)"
      ],
      "metadata": {
        "id": "79fQVlyTWKfy"
      },
      "id": "79fQVlyTWKfy",
      "execution_count": null,
      "outputs": []
    },
    {
      "cell_type": "markdown",
      "id": "167ba658",
      "metadata": {
        "id": "167ba658"
      },
      "source": [
        "### Step 4: Registration, Quantification and Saving output Files"
      ]
    },
    {
      "cell_type": "markdown",
      "source": [
        "This loop will access the TIF files folder and consequently register, quantify, and design output tables for each one of the files. \n",
        "\"Run\" the code and check the output down below. "
      ],
      "metadata": {
        "id": "AG_4fknex_N1"
      },
      "id": "AG_4fknex_N1"
    },
    {
      "cell_type": "code",
      "execution_count": 2,
      "id": "b24c395f",
      "metadata": {
        "scrolled": false,
        "id": "b24c395f",
        "colab": {
          "base_uri": "https://localhost:8080/",
          "height": 524
        },
        "outputId": "161d9196-b9a2-4f8f-cd69-d511363de15f"
      },
      "outputs": [
        {
          "output_type": "stream",
          "name": "stdout",
          "text": [
            "https://github.com/JoachimGoedhart/DotBlot-analysis/raw/main/Dotblot_Example-data_overlay.tif\n"
          ]
        },
        {
          "output_type": "display_data",
          "data": {
            "text/plain": [
              "<Figure size 640x480 with 1 Axes>"
            ],
            "image/png": "[encoded data removed]"
          },
          "metadata": {}
        },
        {
          "output_type": "stream",
          "name": "stdout",
          "text": [
            "   Coordinates                       Condition  area  mean intensity\n",
            "1           A1                 Reference Spots   316      153.088608\n",
            "2           A2                 Reference Spots   316      157.784810\n",
            "3          A19                 Reference Spots   316      146.743671\n",
            "4          A20                 Reference Spots   316      145.297468\n",
            "5           B3                          6Ckine   700        2.645714\n",
            "..         ...                             ...   ...             ...\n",
            "72          F8  Transferrin R (Sample Control)   700        2.142857\n",
            "73          F9                Negative Control   700        1.708571\n",
            "74         F10                Negative Control   700        1.691429\n",
            "75          G1                 Reference Spots   316      158.563291\n",
            "76          G2                 Reference Spots   316      163.012658\n",
            "\n",
            "[76 rows x 4 columns]\n"
          ]
        }
      ],
      "source": [
        "#Remove the middle dots from the mask - we only use the outer dots for registration\n",
        "#Suggested by Nico Schramma\n",
        "center = [50,220,100,650] #x1,x2,y1,y2\n",
        "\n",
        "mask_no_center = mask.copy()\n",
        "mask_no_center[center[0]:center[1],center[2]:center[3]] = 0\n",
        "\n",
        "\n",
        "#ROI from mask \n",
        "dots = clear_border(mask)\n",
        "\n",
        "# The scikit-image module 'skimage.filters.thresholding' provides\n",
        "# several threshold detection algorithms. The most popular one \n",
        "# among them is Otsu's method.\n",
        "threshold = threshold_otsu(dots)\n",
        "binary_dots = dots > threshold\n",
        "\n",
        "#Connected component labeling\n",
        "labeled_image = label(dots)\n",
        "\n",
        "num_labels = np.max(labeled_image)\n",
        "\n",
        "#Create a table with label values and pixel counts \n",
        "labels_table = np.zeros((num_labels,2))\n",
        "for i in range(num_labels):\n",
        "    labels_table[i,0]=i+1\n",
        "    labels_table[i,1]=np.sum(labeled_image == i+1)\n",
        "\n",
        "#Loop accessing subdirectory (TIF_files)\n",
        "#Registration images\n",
        "#Quantification of Gray value \n",
        "#Saving the output as .csv files in new subdirectory\n",
        "\n",
        "counter = 1\n",
        "sr = StackReg(StackReg.AFFINE)\n",
        "\n",
        "\n",
        "if in_dir == \"\":\n",
        "    filelist = [\"https://github.com/JoachimGoedhart/DotBlot-analysis/raw/main/Dotblot_Example-data.tif\"]\n",
        "else:\n",
        "    filelist = os.listdir(in_dir)\n",
        "\n",
        "for file in filelist:\n",
        "    if in_dir == \"\":\n",
        "        img = io.imread('https://github.com/JoachimGoedhart/DotBlot-analysis/raw/main/Dotblot_Example-data.tif')\n",
        "    else: \n",
        "      img = io.imread(in_dir+'/'+file)\n",
        "\n",
        "    #Remove the middle dots from the data - we only use the outer dots for registration\n",
        "    #Suggested by Nico Schramma\n",
        "    img_no_center = img.copy()\n",
        "    img_no_center[center[0]:center[1],center[2]:center[3]] = 0 \n",
        "    thresh = filt.threshold_otsu(img_no_center)\n",
        "    img_no_center[img_no_center<thresh] = 0\n",
        "    img_no_center[img_no_center>=thresh] = 255\n",
        "\n",
        "    #Calculate the tranformation matrix and apply it to the actual image\n",
        "    tmat = sr.register(mask_no_center,img_no_center)\n",
        "    i_reg = sr.transform(img,tmat)\n",
        "\n",
        "    # Scale pixel values to the range [0, 1]\n",
        "    reg_scaled = i_reg / i_reg.max()\n",
        "    # Scale pixel values to the range [0, 255] and cast to uint8\n",
        "    reg_scaledimg = util.img_as_ubyte(reg_scaled) #save it (it's a np array)\n",
        "    grayscale_img = file.replace('.tif', '_overlay.tif')\n",
        "    counter +=1\n",
        "    if out_dir == \"\":\n",
        "        print(grayscale_img)\n",
        "    else:\n",
        "        filepath = os.path.join(out_dir, grayscale_img)\n",
        "        io.imsave(filepath, reg_scaledimg)\n",
        "    #Convert 3D array to RGB and plot it\n",
        "    condition_rgb = np.dstack((mask,reg_scaledimg,mask))\n",
        "    #plt.subplot(1,2,1)\n",
        "    plt.imshow(condition_rgb)\n",
        "    plt.show()\n",
        "\n",
        "    #Read the intensity image\n",
        "    intensity_image = reg_scaledimg\n",
        "    \n",
        "    #Convert the intensity image to a single-layer image\n",
        "    if intensity_image.ndim == 3:\n",
        "        intensity_image = intensity_image[:,:,0]\n",
        "    \n",
        "    #labeled image = mask; intensity image = reference image\n",
        "    properties = regionprops(labeled_image, intensity_image=intensity_image)\n",
        "\n",
        "    statistics = {\n",
        "        'area': [p.area for p in properties],\n",
        "        'mean intensity': [p.mean_intensity for p in properties]\n",
        "    }\n",
        "    table = pd.DataFrame(statistics)\n",
        "    table.index += 1  # start index from 1\n",
        "    \n",
        "    final_table = pd.concat([conditions, table], axis=1)\n",
        "    final_table = final_table.drop('Label', axis=1)\n",
        "\n",
        "    # create a unique output file name for this dataframe\n",
        "    csv_file = file.replace('.tif', '.csv')\n",
        "    # save the Dataframe to the csv_file in another directory ('output_files/')\n",
        "    if out_dir == \"\":\n",
        "        print(final_table)\n",
        "    else:\n",
        "        final_table.to_csv(out_dir+'/'+csv_file, index=True)\n",
        "    \n",
        "        #Print a message to confirm that the file was saved\n",
        "        print(f\" Table saved sucessfully as {csv_file}!\")"
      ]
    },
    {
      "cell_type": "code",
      "execution_count": null,
      "id": "600bea39",
      "metadata": {
        "id": "600bea39",
        "cellView": "form"
      },
      "outputs": [],
      "source": [
        "#@title Loading packages that are needed for dataViz using R\n",
        "\n",
        "#!pip install rpy2==3.5.1\n",
        "\n",
        "# activate R magic\n",
        "#%load_ext rpy2.ipython\n",
        "\n",
        "#%R install.packages('tidyverse')\n",
        "#%R library(tidyverse)"
      ]
    }
  ],
  "metadata": {
    "kernelspec": {
      "display_name": "Python 3 (ipykernel)",
      "language": "python",
      "name": "python3"
    },
    "language_info": {
      "codemirror_mode": {
        "name": "ipython",
        "version": 3
      },
      "file_extension": ".py",
      "mimetype": "text/x-python",
      "name": "python",
      "nbconvert_exporter": "python",
      "pygments_lexer": "ipython3",
      "version": "3.11.0"
    },
    "colab": {
      "provenance": [],
      "include_colab_link": true
    }
  },
  "nbformat": 4,
  "nbformat_minor": 5
}